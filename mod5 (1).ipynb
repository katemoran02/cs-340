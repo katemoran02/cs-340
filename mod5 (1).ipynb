{
 "cells": [
  {
   "cell_type": "code",
   "execution_count": 4,
   "id": "80b4b773",
   "metadata": {},
   "outputs": [
    {
     "name": "stdout",
     "output_type": "stream",
     "text": [
      "Dash app running on http://127.0.0.1:26804/\n"
     ]
    }
   ],
   "source": [
    "# Import necessary libraries\n",
    "from jupyter_dash import JupyterDash\n",
    "from dash import dcc, html\n",
    "from dash.dependencies import Input, Output\n",
    "import urllib.parse\n",
    "from pymongo import MongoClient\n",
    "\n",
    "# Initialize the app\n",
    "app = JupyterDash(__name__)\n",
    "\n",
    "# MongoDB connection setup\n",
    "client = MongoClient('mongodb://localhost:27017/')\n",
    "db = client['user_database']  # Use your database name here\n",
    "users_collection = db['users']  # Use your collection name here\n",
    "\n",
    "# Define the layout of the app\n",
    "app.layout = html.Div([\n",
    "    html.H1(\"Module 5 Assignment - Kate\"),  # Your Name\n",
    "    dcc.Input(id=\"input_user\", type=\"text\", placeholder=\"Username\"),\n",
    "    dcc.Input(id=\"input_passwd\", type=\"password\", placeholder=\"Password\"),\n",
    "    html.Button('Submit', id='submit-val', n_clicks=0),\n",
    "    html.Hr(),\n",
    "    html.Div(id=\"query-out\", style={'whiteSpace': 'pre-line'})\n",
    "])\n",
    "\n",
    "# Define callback to handle user input\n",
    "@app.callback(\n",
    "    Output('query-out', 'children'),\n",
    "    [Input('input_user', 'value'),\n",
    "     Input('input_passwd', 'value'),\n",
    "     Input('submit-val', 'n_clicks')]\n",
    ")\n",
    "def update_figure(inputUser, inputPass, n_clicks):\n",
    "    if n_clicks > 0:\n",
    "        # Ensure user input is clean and URL-encoded\n",
    "        username = urllib.parse.quote_plus(inputUser)\n",
    "        password = urllib.parse.quote_plus(inputPass)\n",
    "\n",
    "        # Query the database to check if the user exists and validate the password\n",
    "        user = users_collection.find_one({\"username\": username})\n",
    "        \n",
    "        if user:\n",
    "            # If user exists, check password (Assuming password is stored hashed)\n",
    "            if user['password'] == password: \n",
    "                return f\"Welcome, {inputUser}!\"\n",
    "            else:\n",
    "                return \"Invalid password. Please try again.\"\n",
    "        else:\n",
    "            return \"Username not found. Please try again.\"\n",
    "\n",
    "# Run the app\n",
    "if __name__ == '__main__':\n",
    "    app.run_server(debug=True)\n"
   ]
  },
  {
   "cell_type": "code",
   "execution_count": null,
   "id": "7db94cb5",
   "metadata": {},
   "outputs": [],
   "source": []
  }
 ],
 "metadata": {
  "kernelspec": {
   "display_name": "Python 3 (ipykernel)",
   "language": "python",
   "name": "python3"
  },
  "language_info": {
   "codemirror_mode": {
    "name": "ipython",
    "version": 3
   },
   "file_extension": ".py",
   "mimetype": "text/x-python",
   "name": "python",
   "nbconvert_exporter": "python",
   "pygments_lexer": "ipython3",
   "version": "3.9.12"
  }
 },
 "nbformat": 4,
 "nbformat_minor": 5
}
