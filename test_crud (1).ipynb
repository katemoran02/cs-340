{
 "cells": [
  {
   "cell_type": "code",
   "execution_count": null,
   "id": "1c1dfcc3",
   "metadata": {},
   "outputs": [
    {
     "name": "stdout",
     "output_type": "stream",
     "text": [
      "An error occurred: nv-desktop-services.apporto.com:31580: [Errno 111] Connection refused, Timeout: 30s, Topology Description: <TopologyDescription id: 6743994e098dd042e78e0c57, topology_type: Single, servers: [<ServerDescription ('nv-desktop-services.apporto.com', 31580) server_type: Unknown, rtt: None, error=AutoReconnect('nv-desktop-services.apporto.com:31580: [Errno 111] Connection refused')>]>\n",
      "Create Status: False\n"
     ]
    }
   ],
   "source": [
    "from animal_shelter import AnimalShelter\n",
    "\n",
    "username = \"aacuser\"\n",
    "password = \"YourSecurePassword\"\n",
    "shelter = AnimalShelter(username, password)\n",
    "\n",
    "new_animal = {\n",
    "    \"name\": \"Buddy\",\n",
    "    \"age\": 3,\n",
    "    \"type\": \"Dog\",\n",
    "    \"breed\": \"Golden Retriever\"\n",
    "}\n",
    "create_status = shelter.create(new_animal)\n",
    "print(\"Create Status:\", create_status)\n",
    "\n",
    "query = {\"type\": \"Dog\"}\n",
    "dogs = shelter.read(query)\n",
    "print(\"Query Result:\", dogs)"
   ]
  },
  {
   "cell_type": "code",
   "execution_count": null,
   "id": "9697aae3",
   "metadata": {},
   "outputs": [],
   "source": []
  }
 ],
 "metadata": {
  "kernelspec": {
   "display_name": "Python 3 (ipykernel)",
   "language": "python",
   "name": "python3"
  },
  "language_info": {
   "codemirror_mode": {
    "name": "ipython",
    "version": 3
   },
   "file_extension": ".py",
   "mimetype": "text/x-python",
   "name": "python",
   "nbconvert_exporter": "python",
   "pygments_lexer": "ipython3",
   "version": "3.9.12"
  }
 },
 "nbformat": 4,
 "nbformat_minor": 5
}
